{
  "nbformat": 4,
  "nbformat_minor": 0,
  "metadata": {
    "colab": {
      "name": "CoronaVirus_Web_Scraping.ipynb",
      "provenance": [],
      "collapsed_sections": [],
      "authorship_tag": "ABX9TyOKxVA0V8lt3tXLc04PwzRo",
      "include_colab_link": true
    },
    "kernelspec": {
      "name": "python3",
      "display_name": "Python 3"
    }
  },
  "cells": [
    {
      "cell_type": "markdown",
      "metadata": {
        "id": "view-in-github",
        "colab_type": "text"
      },
      "source": [
        "<a href=\"https://colab.research.google.com/github/AhmadHegazy/CoronaVirus_Analysis/blob/Development/CoronaVirus_Web_Scraping.ipynb\" target=\"_parent\"><img src=\"https://colab.research.google.com/assets/colab-badge.svg\" alt=\"Open In Colab\"/></a>"
      ]
    },
    {
      "cell_type": "code",
      "metadata": {
        "id": "1zuOAPLO8_Du",
        "colab_type": "code",
        "outputId": "a86c483b-32ea-42b4-9283-a3b9bcf01725",
        "colab": {
          "base_uri": "https://localhost:8080/",
          "height": 34
        }
      },
      "source": [
        "from datetime import date\n",
        "today = date.today()\n",
        "\n",
        "d = today.strftime(\"%m-%d-%y\")\n",
        "print(\"date =\", d)"
      ],
      "execution_count": 0,
      "outputs": [
        {
          "output_type": "stream",
          "text": [
            "date = 03-30-20\n"
          ],
          "name": "stdout"
        }
      ]
    },
    {
      "cell_type": "code",
      "metadata": {
        "id": "ToCybFfh-jN1",
        "colab_type": "code",
        "colab": {}
      },
      "source": [
        "cnn_url=\"https://www.cnn.com/world/live-news/coronavirus-outbreak-{}-intl-hnk/index.html\".format(d)\n",
        "print(cnn_url)"
      ],
      "execution_count": 0,
      "outputs": []
    },
    {
      "cell_type": "code",
      "metadata": {
        "id": "u6D_363a_VaO",
        "colab_type": "code",
        "colab": {}
      },
      "source": [
        "from bs4 import BeautifulSoup\n",
        "import requests"
      ],
      "execution_count": 0,
      "outputs": []
    },
    {
      "cell_type": "code",
      "metadata": {
        "id": "KAQLBdXwA8UG",
        "colab_type": "code",
        "colab": {}
      },
      "source": [
        "html = requests.get(cnn_url).text"
      ],
      "execution_count": 0,
      "outputs": []
    },
    {
      "cell_type": "code",
      "metadata": {
        "id": "S1-NVynTBLyy",
        "colab_type": "code",
        "outputId": "25b91a2d-2b47-49a5-aa26-643a2526c21b",
        "colab": {
          "base_uri": "https://localhost:8080/",
          "height": 34
        }
      },
      "source": [
        "soup = BeautifulSoup(html)\n",
        "print(soup.title)"
      ],
      "execution_count": 0,
      "outputs": [
        {
          "output_type": "stream",
          "text": [
            "<title data-rh=\"true\">Coronavirus live updates: Cases top 723,000 globally - CNN</title>\n"
          ],
          "name": "stdout"
        }
      ]
    },
    {
      "cell_type": "code",
      "metadata": {
        "id": "Q9Vvcj9nBV54",
        "colab_type": "code",
        "colab": {}
      },
      "source": [
        "import spacy"
      ],
      "execution_count": 0,
      "outputs": []
    },
    {
      "cell_type": "code",
      "metadata": {
        "id": "PV4ZFK5nBXZ3",
        "colab_type": "code",
        "colab": {}
      },
      "source": [
        "nlp = spacy.load('en_core_web_sm')"
      ],
      "execution_count": 0,
      "outputs": []
    },
    {
      "cell_type": "code",
      "metadata": {
        "id": "iuhYD2eyBnia",
        "colab_type": "code",
        "colab": {}
      },
      "source": [
        "for link in soup.find_all(\"h2\"):\n",
        "  print(\"Headline: {}\".format(link.text))\n",
        "  for entity in nlp(link.text).ents:\n",
        "    print(\"\\tText: {}, Etity: {}\".format(entity.text, entity.label_))"
      ],
      "execution_count": 0,
      "outputs": []
    },
    {
      "cell_type": "code",
      "metadata": {
        "id": "bvzC8g8XFahE",
        "colab_type": "code",
        "colab": {}
      },
      "source": [
        "#read h2 from html response, descriiption from xml\n",
        "dw_url = 'https://www.dw.com/en/top-stories/coronavirus/s-32798'\n",
        "dailymail_url='https://www.dailymail.co.uk/news/coronavirus/index.html'\n",
        "cnbc_url = 'https://www.cnbc.com/id/10000108/device/rss/rss.html'"
      ],
      "execution_count": 0,
      "outputs": []
    },
    {
      "cell_type": "code",
      "metadata": {
        "id": "upvVi3yOIm_X",
        "colab_type": "code",
        "colab": {}
      },
      "source": [
        "urls = [dw_url, dailymail_url, cnn_url, cnbc_url] #cnbc_url\n",
        "formats = ['html.parser','html.parser','html.parser', 'xml'] #'xml'\n",
        "tags = ['h2','h2','h2', 'description']\n",
        "websites = ['DW', 'DailyMail','CNN', 'CNBS']"
      ],
      "execution_count": 0,
      "outputs": []
    },
    {
      "cell_type": "code",
      "metadata": {
        "id": "PMVUN1_hJFEW",
        "colab_type": "code",
        "colab": {}
      },
      "source": [
        "crawl_index = 0\n",
        "for url in urls:\n",
        "  print(\"\\tCrawling web page............{}\".format(url))\n",
        "  print(\"\\t crawl_index: {}\".format(crawl_index))\n",
        "  response = requests.get(url)\n",
        "  soup = BeautifulSoup(response.content, formats[crawl_index])\n",
        "  for link in soup.find_all(tags[crawl_index]):\n",
        "    if('coronavirus' or 'covid-19') in link.text.lower():\n",
        "      if(len(link.text.split(\" \")) > 4):\n",
        "        print(\"Headline : {}\".format(link.text))\n",
        "\n",
        "        for entity in nlp(link.text).ents:\n",
        "          print(\"\\tText: {}, Etity: {}\".format(entity.text, entity.label_))\n",
        "\n",
        "  crawl_index = crawl_index + 1     "
      ],
      "execution_count": 0,
      "outputs": []
    },
    {
      "cell_type": "code",
      "metadata": {
        "id": "2nuhp73tP_UT",
        "colab_type": "code",
        "colab": {}
      },
      "source": [
        "crawl_index = 0\n",
        "news_dict = []\n",
        "for url in urls:\n",
        "  print(\"\\tCrawling web page............{}\".format(url))\n",
        "  response = requests.get(url)\n",
        "  soup = BeautifulSoup(response.content, formats[crawl_index])\n",
        "  for link in soup.find_all(tags[crawl_index]):\n",
        "    if('coronavirus' or 'covid-19') in link.text.lower():\n",
        "      if(len(link.text.split(\" \")) > 4):\n",
        "        print(\"Headline : {}\".format(link.text))\n",
        "        entities=[]\n",
        "        entities=[(entity.text, entity.label_) for entity in nlp(link.text).ents]\n",
        "        entities\n",
        "        news_dict.append({'website':websites[crawl_index],'url': url,'headline':link.text,'entities':entities})\n",
        "\n",
        "  crawl_index = crawl_index + 1   "
      ],
      "execution_count": 0,
      "outputs": []
    },
    {
      "cell_type": "code",
      "metadata": {
        "id": "9qtNctKVRYY_",
        "colab_type": "code",
        "colab": {}
      },
      "source": [
        "news_dict"
      ],
      "execution_count": 0,
      "outputs": []
    },
    {
      "cell_type": "code",
      "metadata": {
        "id": "VCT9eKFFSUHG",
        "colab_type": "code",
        "colab": {}
      },
      "source": [
        "import pandas as pd"
      ],
      "execution_count": 0,
      "outputs": []
    },
    {
      "cell_type": "code",
      "metadata": {
        "id": "ipx7ST78SZNv",
        "colab_type": "code",
        "colab": {}
      },
      "source": [
        "news_df = pd.DataFrame(news_dict)"
      ],
      "execution_count": 0,
      "outputs": []
    },
    {
      "cell_type": "code",
      "metadata": {
        "id": "CbAQ4M3bSnlP",
        "colab_type": "code",
        "colab": {}
      },
      "source": [
        "news_df.head(20)"
      ],
      "execution_count": 0,
      "outputs": []
    },
    {
      "cell_type": "code",
      "metadata": {
        "id": "ec88lk1uTDsK",
        "colab_type": "code",
        "colab": {}
      },
      "source": [
        "news_df[news_df['website'] == 'DW']"
      ],
      "execution_count": 0,
      "outputs": []
    },
    {
      "cell_type": "code",
      "metadata": {
        "id": "NJYkLnIGat0c",
        "colab_type": "code",
        "colab": {}
      },
      "source": [
        "#to flateen entities into colums will use apply(pd.Series)\n",
        "news_final_df = pd.concat([news_df[['website','url','headline']],news_df['entities'].apply(pd.Series)],axis=1)"
      ],
      "execution_count": 0,
      "outputs": []
    },
    {
      "cell_type": "code",
      "metadata": {
        "id": "oAkUTn8ua7J-",
        "colab_type": "code",
        "colab": {}
      },
      "source": [
        "pd.set_option('max_colwidth', 800)"
      ],
      "execution_count": 0,
      "outputs": []
    },
    {
      "cell_type": "code",
      "metadata": {
        "id": "AMPHKj3fbJXN",
        "colab_type": "code",
        "colab": {}
      },
      "source": [
        "from google.colab import drivenews_final_df.head()"
      ],
      "execution_count": 0,
      "outputs": []
    },
    {
      "cell_type": "code",
      "metadata": {
        "id": "LsbcTqMBbXcY",
        "colab_type": "code",
        "colab": {}
      },
      "source": [
        "from google.colab import drive\n",
        "drive.mount('/content/drive', force_remount=True)\n"
      ],
      "execution_count": 0,
      "outputs": []
    },
    {
      "cell_type": "code",
      "metadata": {
        "id": "4sHZPOUjcJnK",
        "colab_type": "code",
        "colab": {}
      },
      "source": [
        "news_df.to_csv('/content/drive/My Drive/Colab Notebooks/CoronaVirus_web_scrapping_dataset.csv')"
      ],
      "execution_count": 0,
      "outputs": []
    }
  ]
}