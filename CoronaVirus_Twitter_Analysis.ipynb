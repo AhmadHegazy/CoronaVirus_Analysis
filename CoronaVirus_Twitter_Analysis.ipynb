{
  "nbformat": 4,
  "nbformat_minor": 0,
  "metadata": {
    "colab": {
      "name": "CoronaVirus Twitter Analysis.ipynb",
      "provenance": [],
      "collapsed_sections": [],
      "authorship_tag": "ABX9TyNrDnEYS/VmjzsQiFO5rG4q",
      "include_colab_link": true
    },
    "kernelspec": {
      "name": "python3",
      "display_name": "Python 3"
    }
  },
  "cells": [
    {
      "cell_type": "markdown",
      "metadata": {
        "id": "view-in-github",
        "colab_type": "text"
      },
      "source": [
        "<a href=\"https://colab.research.google.com/github/AhmadHegazy/CoronaVirus_Analysis/blob/Development/CoronaVirus_Twitter_Analysis.ipynb\" target=\"_parent\"><img src=\"https://colab.research.google.com/assets/colab-badge.svg\" alt=\"Open In Colab\"/></a>"
      ]
    },
    {
      "cell_type": "code",
      "metadata": {
        "id": "XNAP3NIlLP7J",
        "colab_type": "code",
        "colab": {}
      },
      "source": [
        "from google.colab import drive"
      ],
      "execution_count": 0,
      "outputs": []
    },
    {
      "cell_type": "code",
      "metadata": {
        "id": "13GpaGhzOg9u",
        "colab_type": "code",
        "colab": {}
      },
      "source": [
        "drive.mount('/content/drive', force_remount=True)"
      ],
      "execution_count": 0,
      "outputs": []
    },
    {
      "cell_type": "markdown",
      "metadata": {
        "id": "6lcWXOuySB42",
        "colab_type": "text"
      },
      "source": [
        "Prepare Twitter Access key from developer account\n"
      ]
    },
    {
      "cell_type": "code",
      "metadata": {
        "id": "O8B7WEoXPMg6",
        "colab_type": "code",
        "outputId": "f6b4d45d-38ab-4556-b14a-21233fa2b417",
        "colab": {
          "base_uri": "https://localhost:8080/",
          "height": 34
        }
      },
      "source": [
        "!ls '/content/drive/My Drive/Colab Notebooks/CoronaVirusAnalysis.config'"
      ],
      "execution_count": 0,
      "outputs": [
        {
          "output_type": "stream",
          "text": [
            "'/content/drive/My Drive/Colab Notebooks/CoronaVirusAnalysis.config'\n"
          ],
          "name": "stdout"
        }
      ]
    },
    {
      "cell_type": "code",
      "metadata": {
        "id": "OKIrNvfYVIRl",
        "colab_type": "code",
        "colab": {}
      },
      "source": [
        "!pip install configParser"
      ],
      "execution_count": 0,
      "outputs": []
    },
    {
      "cell_type": "code",
      "metadata": {
        "id": "0HKMwmUMbK2B",
        "colab_type": "code",
        "colab": {}
      },
      "source": [
        "import configparser"
      ],
      "execution_count": 0,
      "outputs": []
    },
    {
      "cell_type": "code",
      "metadata": {
        "id": "pTaS_eUrbPJv",
        "colab_type": "code",
        "colab": {}
      },
      "source": [
        "config = configparser.RawConfigParser()"
      ],
      "execution_count": 0,
      "outputs": []
    },
    {
      "cell_type": "code",
      "metadata": {
        "id": "qb4Z524KbZcB",
        "colab_type": "code",
        "outputId": "114e4238-cb3a-4b3f-8ea5-71d995bcb148",
        "colab": {
          "base_uri": "https://localhost:8080/",
          "height": 34
        }
      },
      "source": [
        "config.read('/content/drive/My Drive/Colab Notebooks/CoronaVirusAnalysis.config')"
      ],
      "execution_count": 0,
      "outputs": [
        {
          "output_type": "execute_result",
          "data": {
            "text/plain": [
              "['/content/drive/My Drive/Colab Notebooks/CoronaVirusAnalysis.config']"
            ]
          },
          "metadata": {
            "tags": []
          },
          "execution_count": 40
        }
      ]
    },
    {
      "cell_type": "code",
      "metadata": {
        "id": "coWnY7jl0lha",
        "colab_type": "code",
        "outputId": "9c59067f-b4ad-4eb5-b384-6106a8500f7c",
        "colab": {
          "base_uri": "https://localhost:8080/",
          "height": 34
        }
      },
      "source": [
        "print(config.sections())"
      ],
      "execution_count": 0,
      "outputs": [
        {
          "output_type": "stream",
          "text": [
            "['Keys']\n"
          ],
          "name": "stdout"
        }
      ]
    },
    {
      "cell_type": "code",
      "metadata": {
        "id": "qqHYC1bP07fD",
        "colab_type": "code",
        "colab": {}
      },
      "source": [
        "accesstoken=config.get('Keys', 'twitter_accessToken')\n",
        "accesstokensecret=config.get('Keys', 'twitter_accessTokenSecret')\n",
        "apikey=config.get('Keys', 'twitter_APIKey')\n",
        "apisecretkey=config.get('Keys', 'twitter_APISecret')"
      ],
      "execution_count": 0,
      "outputs": []
    },
    {
      "cell_type": "code",
      "metadata": {
        "id": "HJAOWHHS3vjX",
        "colab_type": "code",
        "colab": {}
      },
      "source": [
        "print(accesstoken)\n",
        "print(accesstokensecret)\n",
        "print(apikey)\n",
        "print(apisecretkey)"
      ],
      "execution_count": 0,
      "outputs": []
    },
    {
      "cell_type": "code",
      "metadata": {
        "id": "YMDP0jXk33gT",
        "colab_type": "code",
        "colab": {}
      },
      "source": [
        "import tweepy as tw"
      ],
      "execution_count": 0,
      "outputs": []
    },
    {
      "cell_type": "code",
      "metadata": {
        "id": "guNOgmSx35EK",
        "colab_type": "code",
        "colab": {}
      },
      "source": [
        "auth = tw.OAuthHandler(apikey, apisecretkey)\n",
        "auth.set_access_token(accesstoken, accesstokensecret)\n",
        "api = tw.API(auth, wait_on_rate_limit=True)"
      ],
      "execution_count": 0,
      "outputs": []
    },
    {
      "cell_type": "code",
      "metadata": {
        "id": "J0xywUfI4fbO",
        "colab_type": "code",
        "colab": {}
      },
      "source": [
        "search_word = \"#coronavirus\"\n",
        "date_since = \"2020-03-10\""
      ],
      "execution_count": 0,
      "outputs": []
    },
    {
      "cell_type": "code",
      "metadata": {
        "id": "FKg2FTnw4u3K",
        "colab_type": "code",
        "colab": {}
      },
      "source": [
        "tweets = tw.Cursor(api.search,\n",
        "                   q=search_word,\n",
        "                   lang='en',\n",
        "                   since=date_since).items(1500)"
      ],
      "execution_count": 0,
      "outputs": []
    },
    {
      "cell_type": "code",
      "metadata": {
        "id": "Aa6R_bH05MCn",
        "colab_type": "code",
        "colab": {}
      },
      "source": [
        "for index, tweet in enumerate(tweets):\n",
        "  print(\"Index: {} - Tweet: {}\".format(index,tweet))\n",
        "  if index == 10:\n",
        "    break"
      ],
      "execution_count": 0,
      "outputs": []
    },
    {
      "cell_type": "code",
      "metadata": {
        "id": "-H4BVkYeDouh",
        "colab_type": "code",
        "colab": {}
      },
      "source": [
        "tweets_details = [[tweet.geo, tweet.text, tweet.user.screen_name, tweet.user.location] for tweet in tweets]"
      ],
      "execution_count": 0,
      "outputs": []
    },
    {
      "cell_type": "code",
      "metadata": {
        "id": "GdBgZuBFExGm",
        "colab_type": "code",
        "colab": {}
      },
      "source": [
        "tweets_details"
      ],
      "execution_count": 0,
      "outputs": []
    },
    {
      "cell_type": "code",
      "metadata": {
        "id": "kR78N1HcFYvV",
        "colab_type": "code",
        "colab": {}
      },
      "source": [
        "import pandas as pd"
      ],
      "execution_count": 0,
      "outputs": []
    },
    {
      "cell_type": "code",
      "metadata": {
        "id": "YCtyqZugFbfX",
        "colab_type": "code",
        "colab": {}
      },
      "source": [
        "tweet_df = pd.DataFrame(data=tweets_details, columns=['geo','text','user', \"location\"])"
      ],
      "execution_count": 0,
      "outputs": []
    },
    {
      "cell_type": "code",
      "metadata": {
        "id": "FeatQPwlGJEc",
        "colab_type": "code",
        "colab": {}
      },
      "source": [
        "pd.set_option('max_colwidth', 800)\n",
        "tweet_df.head(20)"
      ],
      "execution_count": 0,
      "outputs": []
    },
    {
      "cell_type": "code",
      "metadata": {
        "id": "l25YtA8CGRN5",
        "colab_type": "code",
        "colab": {}
      },
      "source": [
        "tweet_df.location.value_counts()"
      ],
      "execution_count": 0,
      "outputs": []
    },
    {
      "cell_type": "code",
      "metadata": {
        "id": "vKcv_4fMGWaN",
        "colab_type": "code",
        "colab": {}
      },
      "source": [
        "import re\n",
        "def clean_tweets(text):\n",
        "    text = re.sub(\"RT @[\\w]*:\",\"\",text)\n",
        "    text = re.sub(\"@[\\w]*\",\"\",text)\n",
        "    text = re.sub(\"https?://[A-Za-z0-9./]*\",\"\",text)\n",
        "    text = re.sub(\"\\n\",\"\",text)\n",
        "    return text"
      ],
      "execution_count": 0,
      "outputs": []
    },
    {
      "cell_type": "code",
      "metadata": {
        "id": "TYX9RVElGZJl",
        "colab_type": "code",
        "colab": {}
      },
      "source": [
        "tweet_df['text']=tweet_df['text'].apply(lambda x: clean_tweets(x))"
      ],
      "execution_count": 0,
      "outputs": []
    },
    {
      "cell_type": "code",
      "metadata": {
        "id": "J10QstheGkcN",
        "colab_type": "code",
        "colab": {}
      },
      "source": [
        "tweet_df.head(20)"
      ],
      "execution_count": 0,
      "outputs": []
    },
    {
      "cell_type": "code",
      "metadata": {
        "id": "CVmA_tjZGn3w",
        "colab_type": "code",
        "colab": {}
      },
      "source": [
        "tweet_df.to_csv('/content/drive/My Drive/Colab Notebooks/coronavirus_tweets.csv')"
      ],
      "execution_count": 0,
      "outputs": []
    },
    {
      "cell_type": "code",
      "metadata": {
        "id": "AZfqiR3UHWei",
        "colab_type": "code",
        "colab": {}
      },
      "source": [
        "import spacy \n",
        "nlp = spacy.load('en_core_web_sm')"
      ],
      "execution_count": 0,
      "outputs": []
    },
    {
      "cell_type": "code",
      "metadata": {
        "id": "IbPHX-q_HZ9h",
        "colab_type": "code",
        "colab": {}
      },
      "source": [
        "tweet_df['text'].apply(lambda x : [print(\"\\tText: {} , Entity: {}\".format(entity.text, entity.label_)) if (not \n",
        "entity.text.startswith('#')) else \"\" for entity in nlp(x).ents])"
      ],
      "execution_count": 0,
      "outputs": []
    },
    {
      "cell_type": "code",
      "metadata": {
        "id": "Yf_TZ4qrLiTn",
        "colab_type": "code",
        "colab": {}
      },
      "source": [
        "tweet_df['entities'] = tweet_df['text'].apply(lambda x : [(entity.text, entity.label_) if (not \n",
        "entity.text.startswith('#')) else \"\" for entity in nlp(x).ents])"
      ],
      "execution_count": 0,
      "outputs": []
    },
    {
      "cell_type": "code",
      "metadata": {
        "id": "KG4MrgGIMfAm",
        "colab_type": "code",
        "colab": {}
      },
      "source": [
        "tweet_df.head(10)"
      ],
      "execution_count": 0,
      "outputs": []
    },
    {
      "cell_type": "code",
      "metadata": {
        "id": "2-t4vMKrMlxc",
        "colab_type": "code",
        "colab": {}
      },
      "source": [
        "import nltk"
      ],
      "execution_count": 0,
      "outputs": []
    },
    {
      "cell_type": "code",
      "metadata": {
        "id": "FUU4QyExMrGw",
        "colab_type": "code",
        "colab": {}
      },
      "source": [
        "from nltk.sentiment.vader import SentimentIntensityAnalyzer\n",
        "nltk.download('vader_lexicon')"
      ],
      "execution_count": 0,
      "outputs": []
    },
    {
      "cell_type": "code",
      "metadata": {
        "id": "KfYWHSFHNHRE",
        "colab_type": "code",
        "colab": {}
      },
      "source": [
        "sid = SentimentIntensityAnalyzer()"
      ],
      "execution_count": 0,
      "outputs": []
    },
    {
      "cell_type": "code",
      "metadata": {
        "id": "sGsKwpsPNLut",
        "colab_type": "code",
        "colab": {}
      },
      "source": [
        "tweet_df['sentiment']=tweet_df['text'].apply(lambda x: sid.polarity_scores(x))"
      ],
      "execution_count": 0,
      "outputs": []
    },
    {
      "cell_type": "code",
      "metadata": {
        "id": "wa8zTUPZNPvX",
        "colab_type": "code",
        "colab": {}
      },
      "source": [
        "tweet_df.head(10)"
      ],
      "execution_count": 0,
      "outputs": []
    },
    {
      "cell_type": "code",
      "metadata": {
        "id": "YIpGhYHaNkHa",
        "colab_type": "code",
        "colab": {}
      },
      "source": [
        "!pip install -U googlemaps\n",
        "import googlemaps"
      ],
      "execution_count": 0,
      "outputs": []
    },
    {
      "cell_type": "code",
      "metadata": {
        "id": "EeNn0gB7NyIo",
        "colab_type": "code",
        "colab": {}
      },
      "source": [
        "gmaps = googlemaps.Client(key=config.get('Keys','google_API_key'))"
      ],
      "execution_count": 0,
      "outputs": []
    },
    {
      "cell_type": "code",
      "metadata": {
        "id": "ELYzrHLrOEWh",
        "colab_type": "code",
        "colab": {}
      },
      "source": [
        "geocode_result = gmaps.geocode(tweet_df['location'][1])"
      ],
      "execution_count": 0,
      "outputs": []
    },
    {
      "cell_type": "code",
      "metadata": {
        "id": "q_QUs9JBOIbO",
        "colab_type": "code",
        "colab": {}
      },
      "source": [
        "print(geocode_result)\n",
        "print(geocode_result[0]['formatted_address'])\n",
        "\n",
        "print(geocode_result[0]['formatted_address'].split(\",\")[-1].strip())"
      ],
      "execution_count": 0,
      "outputs": []
    },
    {
      "cell_type": "code",
      "metadata": {
        "id": "Pzx9hIawOhKK",
        "colab_type": "code",
        "colab": {}
      },
      "source": [
        "def get_country(input):\n",
        "  try:\n",
        "    output=gmaps.geocode(input)[0]['formatted_address'].split(\",\")[-1].strip()\n",
        "  except:\n",
        "    output=\"Error\"\n",
        "  return output"
      ],
      "execution_count": 0,
      "outputs": []
    },
    {
      "cell_type": "code",
      "metadata": {
        "id": "aHMiY7i7OOMP",
        "colab_type": "code",
        "colab": {}
      },
      "source": [
        "tweet_df['country'] = tweet_df['location'].apply(lambda x : \"\" if(not x.strip()) else get_country(x))"
      ],
      "execution_count": 0,
      "outputs": []
    },
    {
      "cell_type": "code",
      "metadata": {
        "id": "2n8W2Ua6PuCC",
        "colab_type": "code",
        "colab": {}
      },
      "source": [
        "tweet_df['country'].value_counts()"
      ],
      "execution_count": 0,
      "outputs": []
    },
    {
      "cell_type": "code",
      "metadata": {
        "id": "9FeRDHn8QH7R",
        "colab_type": "code",
        "colab": {}
      },
      "source": [
        "tweet_df.count()"
      ],
      "execution_count": 0,
      "outputs": []
    },
    {
      "cell_type": "code",
      "metadata": {
        "id": "-eXtfogcQgB8",
        "colab_type": "code",
        "colab": {}
      },
      "source": [
        "tweet_df.isnull().any()"
      ],
      "execution_count": 0,
      "outputs": []
    },
    {
      "cell_type": "code",
      "metadata": {
        "id": "T2keBJ-zQq4G",
        "colab_type": "code",
        "colab": {}
      },
      "source": [
        "tweet_df.head(10)"
      ],
      "execution_count": 0,
      "outputs": []
    },
    {
      "cell_type": "code",
      "metadata": {
        "id": "mSb_ug7SRF1r",
        "colab_type": "code",
        "colab": {}
      },
      "source": [
        "tweet_df.to_csv('/content/drive/My Drive/Colab Notebooks/coronavirus_tweets_cleaned.csv')"
      ],
      "execution_count": 0,
      "outputs": []
    }
  ]
}